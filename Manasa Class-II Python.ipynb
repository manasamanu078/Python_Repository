{
 "cells": [
  {
   "cell_type": "code",
   "execution_count": 1,
   "id": "dangerous-money",
   "metadata": {},
   "outputs": [
    {
     "name": "stdout",
     "output_type": "stream",
     "text": [
      "range(0, 10)\n"
     ]
    }
   ],
   "source": [
    "print(range(10))"
   ]
  },
  {
   "cell_type": "code",
   "execution_count": 1,
   "id": "senior-measure",
   "metadata": {},
   "outputs": [
    {
     "data": {
      "text/plain": [
       "[0, 1, 2, 3, 4, 5, 6, 7, 8, 9]"
      ]
     },
     "execution_count": 1,
     "metadata": {},
     "output_type": "execute_result"
    }
   ],
   "source": [
    "list(range(10))"
   ]
  },
  {
   "cell_type": "code",
   "execution_count": 2,
   "id": "searching-omaha",
   "metadata": {},
   "outputs": [
    {
     "data": {
      "text/plain": [
       "[2, 3, 4, 5, 6, 7, 8, 9, 10, 11, 12, 13, 14, 15, 16, 17, 18]"
      ]
     },
     "execution_count": 2,
     "metadata": {},
     "output_type": "execute_result"
    }
   ],
   "source": [
    "list(range(2,19))"
   ]
  },
  {
   "cell_type": "code",
   "execution_count": 6,
   "id": "latin-driver",
   "metadata": {},
   "outputs": [
    {
     "data": {
      "text/plain": [
       "[12, 10, 8, 6, 4, 2, 0, -2]"
      ]
     },
     "execution_count": 6,
     "metadata": {},
     "output_type": "execute_result"
    }
   ],
   "source": [
    "list(range(12,-4,-2))"
   ]
  },
  {
   "cell_type": "code",
   "execution_count": 10,
   "id": "respected-relay",
   "metadata": {},
   "outputs": [
    {
     "name": "stdout",
     "output_type": "stream",
     "text": [
      "Enter a Number :0\n"
     ]
    }
   ],
   "source": [
    "num = int(input(\"Enter a Number :\"))\n",
    "if num:\n",
    "    print(\"This is if block\")"
   ]
  },
  {
   "cell_type": "code",
   "execution_count": 15,
   "id": "chicken-lottery",
   "metadata": {},
   "outputs": [
    {
     "name": "stdout",
     "output_type": "stream",
     "text": [
      "Enter a Number:856546\n",
      "856546 contains more than two digits\n"
     ]
    }
   ],
   "source": [
    "num = int(input(\"Enter a Number:\"))\n",
    "if num <0:\n",
    "    print(f\"{Num} is negative Number\")\n",
    "    \n",
    "elif num>0 and num <=9:\n",
    "    print(f\"{num} is a single-digit Number\")\n",
    "    \n",
    "elif num>9 and num <=99:\n",
    "    print(f\"{num} is a double-digit number\")\n",
    "else :\n",
    "    print(f\"{num} contains more than two digits\")"
   ]
  },
  {
   "cell_type": "code",
   "execution_count": null,
   "id": "thirty-census",
   "metadata": {},
   "outputs": [],
   "source": []
  },
  {
   "cell_type": "code",
   "execution_count": 16,
   "id": "sensitive-irish",
   "metadata": {},
   "outputs": [
    {
     "name": "stdout",
     "output_type": "stream",
     "text": [
      "4\n",
      "3.67\n",
      "Name\n",
      "True\n",
      "Name\n"
     ]
    }
   ],
   "source": [
    "list_1 = [4,3.67,\"Name\",True,\"Name\"]  #iterable\n",
    "for i in list_1:\n",
    "    print(i)"
   ]
  },
  {
   "cell_type": "code",
   "execution_count": 17,
   "id": "aboriginal-sodium",
   "metadata": {},
   "outputs": [
    {
     "data": {
      "text/plain": [
       "5"
      ]
     },
     "execution_count": 17,
     "metadata": {},
     "output_type": "execute_result"
    }
   ],
   "source": [
    "len(list_1)"
   ]
  },
  {
   "cell_type": "code",
   "execution_count": 18,
   "id": "necessary-peace",
   "metadata": {},
   "outputs": [
    {
     "data": {
      "text/plain": [
       "[0, 1, 2, 3, 4]"
      ]
     },
     "execution_count": 18,
     "metadata": {},
     "output_type": "execute_result"
    }
   ],
   "source": [
    "list(range(len(list_1)))"
   ]
  },
  {
   "cell_type": "code",
   "execution_count": 25,
   "id": "connected-tennessee",
   "metadata": {},
   "outputs": [
    {
     "name": "stdout",
     "output_type": "stream",
     "text": [
      "4\n",
      "3.67\n",
      "Name\n",
      "Looping ended at this iteration value of i = 3\n"
     ]
    }
   ],
   "source": [
    "for i in range(len(list_1)):\n",
    "    if i == 3:\n",
    "        print(f\"Looping ended at this iteration value of i = {i}\")\n",
    "        break\n",
    "    print(list_1[i])\n",
    "    "
   ]
  },
  {
   "cell_type": "code",
   "execution_count": 26,
   "id": "desirable-mathematics",
   "metadata": {},
   "outputs": [
    {
     "name": "stdout",
     "output_type": "stream",
     "text": [
      "4\n",
      "3.67\n",
      "Looping skipped at this iteration value of i = 2\n",
      "True\n",
      "Name\n"
     ]
    }
   ],
   "source": [
    "for i in range(len(list_1)):   # Counter controlled loop\n",
    "    if i == 2:\n",
    "        print(f\"Looping skipped at this iteration value of i = {i}\")\n",
    "        continue\n",
    "    print(list_1[i])"
   ]
  },
  {
   "cell_type": "code",
   "execution_count": 29,
   "id": "seven-pickup",
   "metadata": {},
   "outputs": [
    {
     "name": "stdout",
     "output_type": "stream",
     "text": [
      "4\n",
      "3.67\n",
      "Name\n",
      "True\n",
      "Name\n"
     ]
    }
   ],
   "source": [
    "i = 0\n",
    "while i<len(list_1):    # Sentinel Controlled loop\n",
    "    if i == 2:\n",
    "        i += 1\n",
    "        continue\n",
    "        \n",
    "    print(list_1[i])\n",
    "    i += 1\n"
   ]
  },
  {
   "cell_type": "code",
   "execution_count": null,
   "id": "parallel-carrier",
   "metadata": {},
   "outputs": [],
   "source": []
  },
  {
   "cell_type": "code",
   "execution_count": 30,
   "id": "parallel-collaboration",
   "metadata": {},
   "outputs": [
    {
     "data": {
      "text/plain": [
       "list"
      ]
     },
     "execution_count": 30,
     "metadata": {},
     "output_type": "execute_result"
    }
   ],
   "source": [
    "type(list_1)"
   ]
  },
  {
   "cell_type": "code",
   "execution_count": null,
   "id": "occupied-excitement",
   "metadata": {},
   "outputs": [],
   "source": [
    "1.Ordered\n",
    "2.Indexed\n",
    "3.Allows duplicate values\n",
    "4.Mutable\n",
    "5.Iterable"
   ]
  },
  {
   "cell_type": "code",
   "execution_count": 31,
   "id": "norman-agreement",
   "metadata": {},
   "outputs": [
    {
     "data": {
      "text/plain": [
       "'Name'"
      ]
     },
     "execution_count": 31,
     "metadata": {},
     "output_type": "execute_result"
    }
   ],
   "source": [
    "list_1[2]"
   ]
  },
  {
   "cell_type": "code",
   "execution_count": 32,
   "id": "declared-champion",
   "metadata": {},
   "outputs": [
    {
     "data": {
      "text/plain": [
       "[4, 3.67, 'Name', True, 'Name']"
      ]
     },
     "execution_count": 32,
     "metadata": {},
     "output_type": "execute_result"
    }
   ],
   "source": [
    "list_1"
   ]
  },
  {
   "cell_type": "code",
   "execution_count": 33,
   "id": "absolute-restoration",
   "metadata": {},
   "outputs": [
    {
     "data": {
      "text/plain": [
       "[4, 478, 'Name', True, 'Name']"
      ]
     },
     "execution_count": 33,
     "metadata": {},
     "output_type": "execute_result"
    }
   ],
   "source": [
    "list_1[1] = 478\n",
    "list_1"
   ]
  },
  {
   "cell_type": "code",
   "execution_count": 34,
   "id": "spatial-person",
   "metadata": {},
   "outputs": [
    {
     "data": {
      "text/plain": [
       "[3, 5, 6, 4]"
      ]
     },
     "execution_count": 34,
     "metadata": {},
     "output_type": "execute_result"
    }
   ],
   "source": [
    "list_2 = list((3,5,6,4))\n",
    "list_2\n"
   ]
  },
  {
   "cell_type": "raw",
   "id": "leading-nightmare",
   "metadata": {},
   "source": [
    "Write Python code to take an input Number and check whether it is a Armstrong number or not?"
   ]
  },
  {
   "cell_type": "code",
   "execution_count": 35,
   "id": "experimental-telephone",
   "metadata": {},
   "outputs": [
    {
     "data": {
      "text/plain": [
       "True"
      ]
     },
     "execution_count": 35,
     "metadata": {},
     "output_type": "execute_result"
    }
   ],
   "source": [
    "153 == 1**3 + 5**3 +3**3"
   ]
  },
  {
   "cell_type": "raw",
   "id": "disciplinary-barcelona",
   "metadata": {},
   "source": [
    "Input : 153\n",
    "Output : 153 is an Armsrong Number"
   ]
  }
 ],
 "metadata": {
  "kernelspec": {
   "display_name": "Manasa",
   "language": "python",
   "name": "manasa"
  },
  "language_info": {
   "codemirror_mode": {
    "name": "ipython",
    "version": 3
   },
   "file_extension": ".py",
   "mimetype": "text/x-python",
   "name": "python",
   "nbconvert_exporter": "python",
   "pygments_lexer": "ipython3",
   "version": "3.8.8"
  }
 },
 "nbformat": 4,
 "nbformat_minor": 5
}
